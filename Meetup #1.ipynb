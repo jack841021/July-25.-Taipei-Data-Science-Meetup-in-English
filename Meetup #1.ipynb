{
 "cells": [
  {
   "cell_type": "markdown",
   "metadata": {},
   "source": [
    "#The Problem:\n",
    "We have a Series with duplicate indexes which we need to convert to a multi-column DataFrame where each column will be the values of **s** from index **a** to **a**."
   ]
  },
  {
   "cell_type": "code",
   "execution_count": 3,
   "metadata": {
    "collapsed": true
   },
   "outputs": [],
   "source": [
    "import pandas as pd\n",
    "import numpy as np"
   ]
  },
  {
   "cell_type": "code",
   "execution_count": 4,
   "metadata": {
    "collapsed": false
   },
   "outputs": [
    {
     "data": {
      "text/plain": [
       "a    0.126970\n",
       "b    0.966718\n",
       "c    0.260476\n",
       "d    0.897237\n",
       "e    0.376750\n",
       "f    0.336222\n",
       "a    0.451376\n",
       "b    0.840255\n",
       "c    0.123102\n",
       "d    0.543026\n",
       "e    0.373012\n",
       "f    0.447997\n",
       "a    0.129441\n",
       "b    0.859879\n",
       "c    0.820388\n",
       "d    0.352054\n",
       "e    0.228887\n",
       "f    0.776784\n",
       "a    0.594784\n",
       "b    0.137554\n",
       "c    0.852900\n",
       "d    0.235507\n",
       "e    0.146227\n",
       "f    0.589869\n",
       "a    0.574012\n",
       "b    0.061270\n",
       "c    0.590426\n",
       "d    0.245350\n",
       "e    0.340445\n",
       "f    0.984729\n",
       "dtype: float64"
      ]
     },
     "execution_count": 4,
     "metadata": {},
     "output_type": "execute_result"
    }
   ],
   "source": [
    "np.random.seed(123456)\n",
    "s = pd.Series(np.random.random(30), index = list('abcdef')*5)\n",
    "s"
   ]
  },
  {
   "cell_type": "code",
   "execution_count": null,
   "metadata": {
    "collapsed": true
   },
   "outputs": [],
   "source": []
  }
 ],
 "metadata": {
  "kernelspec": {
   "display_name": "Python 3",
   "language": "python",
   "name": "python3"
  },
  "language_info": {
   "codemirror_mode": {
    "name": "ipython",
    "version": 3
   },
   "file_extension": ".py",
   "mimetype": "text/x-python",
   "name": "python",
   "nbconvert_exporter": "python",
   "pygments_lexer": "ipython3",
   "version": "3.4.4"
  }
 },
 "nbformat": 4,
 "nbformat_minor": 0
}
